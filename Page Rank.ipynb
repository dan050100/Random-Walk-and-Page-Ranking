{
 "cells": [
  {
   "cell_type": "markdown",
   "metadata": {},
   "source": [
    "### Initialisation of variables:"
   ]
  },
  {
   "cell_type": "code",
   "execution_count": 1,
   "metadata": {},
   "outputs": [],
   "source": [
    "import random\n",
    "import numpy as np\n",
    "import pandas as pd\n",
    "\n",
    "edges = {(0,2),(2,0),(1,1),(1,2),(2,2),(2,3),(3,3),(3,4),(6,3),(4,6),(6,4),(6,6),(5,6),(5,5)} # Dictionary containing graph edges \n",
    "list_of_edges = list(edges)                                                                   # A list of the edges - for slicing\n",
    "number_of_edges = len(edges)                                                                  # Number of edges\n",
    "pageDict = {}                                                           \n",
    "    \n",
    "for edge in edges:\n",
    "    pageDict[edge[0]] = 0                                                                     # adds the unique pages to dictionary\n",
    "\n",
    "pages = list(pageDict)                                                                        # converts dictionary to a list\n",
    "number_of_pages = len(pages)                                                                  # calculate number of pages in graph\n"
   ]
  },
  {
   "cell_type": "markdown",
   "metadata": {},
   "source": [
    " "
   ]
  },
  {
   "cell_type": "markdown",
   "metadata": {},
   "source": [
    " "
   ]
  },
  {
   "cell_type": "markdown",
   "metadata": {},
   "source": [
    "### Define a getNeighbours function:\n",
    "A page is passed as an argument into the method and a list of its adjacent neighbours is outputted.\n"
   ]
  },
  {
   "cell_type": "code",
   "execution_count": 2,
   "metadata": {},
   "outputs": [],
   "source": [
    "# neigh = a list of neighbours\n",
    "# edge = the edge currently being used from the list of edges\n",
    "\n",
    "def getNeighbours(page):\n",
    "    neigh=[]\n",
    "    \n",
    "    for x in range(number_of_edges):\n",
    "        edge = list_of_edges[x]                 # Gets the specific edge from the list\n",
    "        \n",
    "        if edge[0] == page:                     # Checks the first value as this is where the edge comes from\n",
    "            neigh.append(edge[1])               # This is where the edeg leads to. This page is appended to a list\n",
    "    \n",
    "    return neigh"
   ]
  },
  {
   "cell_type": "markdown",
   "metadata": {},
   "source": [
    " "
   ]
  },
  {
   "cell_type": "markdown",
   "metadata": {},
   "source": [
    " "
   ]
  },
  {
   "cell_type": "markdown",
   "metadata": {},
   "source": [
    "### Testing the getNeighbours function:\n",
    "When the function is applied to the page 1, the neighbouring pages are 1 and 2, and when the function is applied to page 6, the neighbouring pages are 3, 4, and 6. Therefore the function works."
   ]
  },
  {
   "cell_type": "code",
   "execution_count": 3,
   "metadata": {},
   "outputs": [
    {
     "name": "stdout",
     "output_type": "stream",
     "text": [
      "Page 1 neighbours are: [2, 1]\n",
      "Page 3 neighbours are: [4, 6, 3]\n"
     ]
    }
   ],
   "source": [
    "print(\"Page 1 neighbours are: \" + str(getNeighbours(1)))\n",
    "print(\"Page 3 neighbours are: \" + str(getNeighbours(6)))"
   ]
  },
  {
   "cell_type": "markdown",
   "metadata": {},
   "source": [
    " "
   ]
  },
  {
   "cell_type": "markdown",
   "metadata": {},
   "source": [
    " "
   ]
  },
  {
   "cell_type": "markdown",
   "metadata": {},
   "source": [
    "### The random walk method: \n",
    "A random page is selected as a starting node. If the current iteration is divisable by the tel variable (the frequency of teleportations) with no remainder, then the page is randomly teleported to any other page within the graph to prevent dead ends, otherwise the walker randomly selects one of the neighbouring pages to move to. The frequencies of the pages are stored in a dicitonary and then divided by the total number of iterations to give normalised values."
   ]
  },
  {
   "cell_type": "code",
   "execution_count": 4,
   "metadata": {},
   "outputs": [],
   "source": [
    "# iters = the number of iterations\n",
    "# a = the teleportation probability\n",
    "# edges = the edges within the graph\n",
    "# currentPage = the page which the walker is currently at\n",
    "# dict_counter = the frequencies for each of the pages\n",
    "# pageDict = dictionary for unique pages\n",
    "\n",
    "def randomwalk(edges, a, iters):\n",
    "    \n",
    "    pageDict = {}                                                           \n",
    "    dict_counter = {}                                                       \n",
    "    \n",
    "    for edge in edges:\n",
    "        pageDict[edge[0]] = 0                                               # adds the unique pages to dictionary\n",
    "\n",
    "    pages = list(pageDict)                                                  # converts dictionary to a list\n",
    "    number_of_pages = len(pages)                                            # calculate number of pages in graph\n",
    "    currentPage = random.choice(pages)                                      # randomly selects any page in the graph to start    \n",
    "    \n",
    "    for page in range(number_of_pages):\n",
    "        dict_counter[page] = 0                                              # initialise dictionary with 0's for page freqencies \n",
    "\n",
    "    for _ in range(iters):            \n",
    "        if random.uniform(0,1) < a:                                         # random float number from 0 to 1 selected\n",
    "            currentPage = random.choice(pages)                              # randomly selects any page in the graph\n",
    "        else:\n",
    "            currentPage = random.choice(getNeighbours(currentPage))         # randomly selects a neighboured page \n",
    "        dict_counter[currentPage] += 1                                      # adds 1 to the frequency of current page\n",
    "            \n",
    "    for page in range(len(dict_counter)):\n",
    "        dict_counter[page] = dict_counter[page] / iters                     # normalises the frequencies\n",
    "\n",
    "    return dict_counter"
   ]
  },
  {
   "cell_type": "markdown",
   "metadata": {},
   "source": [
    " "
   ]
  },
  {
   "cell_type": "markdown",
   "metadata": {},
   "source": [
    " "
   ]
  },
  {
   "cell_type": "markdown",
   "metadata": {},
   "source": [
    "### Running the random walk method:\n",
    "The method outputs the scores of each of the pages. It should be noted that the values will slightly change for this method each time it is run as it uses a randomiser. The dictionary is stored in the variable 'frequencies' so that it can be accessed later."
   ]
  },
  {
   "cell_type": "code",
   "execution_count": 5,
   "metadata": {},
   "outputs": [
    {
     "data": {
      "text/plain": [
       "{0: 0.0527, 1: 0.0354, 2: 0.1174, 3: 0.2534, 4: 0.2106, 5: 0.0303, 6: 0.3002}"
      ]
     },
     "execution_count": 5,
     "metadata": {},
     "output_type": "execute_result"
    }
   ],
   "source": [
    "frequencies = randomwalk(edges, 0.14, 10000)\n",
    "frequencies"
   ]
  },
  {
   "cell_type": "markdown",
   "metadata": {},
   "source": [
    " "
   ]
  },
  {
   "cell_type": "markdown",
   "metadata": {},
   "source": [
    " "
   ]
  },
  {
   "cell_type": "markdown",
   "metadata": {},
   "source": [
    "### Pagerank function:"
   ]
  },
  {
   "cell_type": "code",
   "execution_count": 6,
   "metadata": {},
   "outputs": [],
   "source": [
    "# matrix = list of every probability for the page connections - transition matrix\n",
    "# T = an N x N matrix full of 1/N\n",
    "# alpha = the teleportation probability\n",
    "# bias = the additional value added to every probability\n",
    "# dictionary for unique pages\n",
    "\n",
    "def pagerank(edges, a, iters):\n",
    "    \n",
    "    pageDict = {}                                                           \n",
    "    \n",
    "    for edge in edges:\n",
    "        pageDict[edge[0]] = 0                          # adds the unique pages to dictionary\n",
    "\n",
    "    pages = list(pageDict)                             # converts dictionary to a list\n",
    "    number_of_pages = len(pages)                       # calculate number of pages in graph\n",
    "    matrix = []\n",
    "    T = 1/number_of_pages\n",
    "    alpha = a\n",
    "    bias = T * alpha\n",
    "\n",
    "           \n",
    "    for page in range(number_of_pages):\n",
    "        connectedPages = getNeighbours(page)           # gets neighbours of current page\n",
    "        row = [0] * number_of_pages                    # initialising list with a 0 frequency for each page of length 'number_of_pages'  \n",
    "\n",
    "\n",
    "        if len(connectedPages) == 1:\n",
    "            prob = 1                                   # probability is 1 if there's only 1 connected page\n",
    "        else:\n",
    "            prob = 1/len(connectedPages)               # probabilities are 1/n where n = number of nighbours \n",
    "\n",
    "        prob = (((1-alpha)*prob) + bias)               # teleportation formula applied to every page that is not equal to 0  \n",
    "    \n",
    "        for x in connectedPages:\n",
    "            row[x] = prob                              # the pages probabilities stored in the list of row\n",
    "\n",
    "        for y in range(len(row)):                      \n",
    "            if row[y] == 0:\n",
    "                row[y] += bias                         # teleportation formula applied to every page that is equal to 0\n",
    "\n",
    "        matrix.append(row)                             # appends the row to the matrix\n",
    "\n",
    "    trans_matrix = np.array(matrix)                    # convert the list of rows to a numpy array so it can be reshaped\n",
    "    trans_matrix.reshape(7,7)                          # reshaped the array to be \n",
    "    \n",
    "    a = [T] * number_of_pages                          # initialises each of the pages in the 'a' matrix to 1/n (T)\n",
    "\n",
    "    for i in range(iters):\n",
    "        a = np.matmul(a, trans_matrix)                 # multiplies the two matrixes (a and trans_matrix) iters amount of times,\n",
    "                                                       # updating the value of a each time\n",
    "    return a"
   ]
  },
  {
   "cell_type": "markdown",
   "metadata": {},
   "source": [
    " "
   ]
  },
  {
   "cell_type": "markdown",
   "metadata": {},
   "source": [
    " "
   ]
  },
  {
   "cell_type": "markdown",
   "metadata": {},
   "source": [
    "### Running the pagerank method:\n",
    "The method outputs the scores of each of the pages. Unlike the random walk method, the values in the pagerank method will not change each time it is run. The final vector is stored in the variable 'vector' so that it can be accessed later."
   ]
  },
  {
   "cell_type": "code",
   "execution_count": 7,
   "metadata": {},
   "outputs": [
    {
     "data": {
      "text/plain": [
       "array([0.05211042, 0.03508772, 0.11201311, 0.24561199, 0.21350156,\n",
       "       0.03508772, 0.30658747])"
      ]
     },
     "execution_count": 7,
     "metadata": {},
     "output_type": "execute_result"
    }
   ],
   "source": [
    "vector = pagerank(edges, 0.14, 10000)\n",
    "vector"
   ]
  },
  {
   "cell_type": "markdown",
   "metadata": {},
   "source": [
    " "
   ]
  },
  {
   "cell_type": "markdown",
   "metadata": {},
   "source": [
    " "
   ]
  },
  {
   "cell_type": "markdown",
   "metadata": {},
   "source": [
    "### The following is used to output the ranking results in order of both methods:\n",
    "Note that pages 1 and 5 will swap in the ranking with one another for the random walk method as they are both similar (they can loop back to themselves and have no incoming edges), and therefore the randomiser will have an impact upon there ranking order. The output helps to prove that both of the methods do converge to a steady state."
   ]
  },
  {
   "cell_type": "code",
   "execution_count": 8,
   "metadata": {},
   "outputs": [
    {
     "name": "stdout",
     "output_type": "stream",
     "text": [
      "\u001b[1mRanking number 1: \n",
      "\u001b[0mRandom Walk Method:       \u001b[1mPage 6 : 0.3002\n",
      "\u001b[0mPagerank Method:          \u001b[1mPage 6 : 0.3065874740538629\n",
      "\n",
      "\u001b[1mRanking number 2: \n",
      "\u001b[0mRandom Walk Method:       \u001b[1mPage 3 : 0.2534\n",
      "\u001b[0mPagerank Method:          \u001b[1mPage 3 : 0.24561198915656474\n",
      "\n",
      "\u001b[1mRanking number 3: \n",
      "\u001b[0mRandom Walk Method:       \u001b[1mPage 4 : 0.2106\n",
      "\u001b[0mPagerank Method:          \u001b[1mPage 4 : 0.21350156456609684\n",
      "\n",
      "\u001b[1mRanking number 4: \n",
      "\u001b[0mRandom Walk Method:       \u001b[1mPage 2 : 0.1174\n",
      "\u001b[0mPagerank Method:          \u001b[1mPage 2 : 0.1120131090365158\n",
      "\n",
      "\u001b[1mRanking number 5: \n",
      "\u001b[0mRandom Walk Method:       \u001b[1mPage 0 : 0.0527\n",
      "\u001b[0mPagerank Method:          \u001b[1mPage 0 : 0.05211042459046785\n",
      "\n",
      "\u001b[1mRanking number 6: \n",
      "\u001b[0mRandom Walk Method:       \u001b[1mPage 1 : 0.0354\n",
      "\u001b[0mPagerank Method:          \u001b[1mPage 5 : 0.0350877192982456\n",
      "\n",
      "\u001b[1mRanking number 7: \n",
      "\u001b[0mRandom Walk Method:       \u001b[1mPage 5 : 0.0303\n",
      "\u001b[0mPagerank Method:          \u001b[1mPage 1 : 0.03508771929824559\n",
      "\n"
     ]
    }
   ],
   "source": [
    "import operator\n",
    "\n",
    "pagedict = {}                                                                              # dictionary for the pagerank results\n",
    "randomdict = {}                                                                            # dictionary for the random walk results\n",
    "\n",
    "for x in range(number_of_pages):\n",
    "    pagedict[x] = vector[x]                                                                # copies the vector dictionary across \n",
    "\n",
    "sortingPage = sorted(pagedict.items(), key=operator.itemgetter(1), reverse=True)           # sorts the pagerank method results\n",
    "sortingRandom = sorted(frequencies.items(), key=operator.itemgetter(1), reverse=True)      # sorts the random walk method results\n",
    "\n",
    "for x in range(number_of_pages):\n",
    "    currentPage = sortingPage[x]                                                           # the current pagerank score for output\n",
    "    currentRandom = sortingRandom[x]                                                       # the current random walk score for output\n",
    "    \n",
    "    print(\"\\033[1mRanking number \" + str(x+1) + \": \\n\\033[0mRandom Walk Method:       \\033[1mPage \" + str(currentRandom[0]) + \" : \" + str(currentRandom[1]))\n",
    "    print(\"\\033[0mPagerank Method:          \\033[1mPage \" + str(currentPage[0]) + \" : \" + str(currentPage[1]) + \"\\n\")\n",
    "    "
   ]
  },
  {
   "cell_type": "markdown",
   "metadata": {},
   "source": [
    " "
   ]
  },
  {
   "cell_type": "markdown",
   "metadata": {},
   "source": [
    " "
   ]
  },
  {
   "cell_type": "markdown",
   "metadata": {},
   "source": [
    "### A better way of visualising this can be seen below in a dataframe:"
   ]
  },
  {
   "cell_type": "code",
   "execution_count": 9,
   "metadata": {},
   "outputs": [
    {
     "data": {
      "text/html": [
       "<div>\n",
       "<style scoped>\n",
       "    .dataframe tbody tr th:only-of-type {\n",
       "        vertical-align: middle;\n",
       "    }\n",
       "\n",
       "    .dataframe tbody tr th {\n",
       "        vertical-align: top;\n",
       "    }\n",
       "\n",
       "    .dataframe thead th {\n",
       "        text-align: right;\n",
       "    }\n",
       "</style>\n",
       "<table border=\"1\" class=\"dataframe\">\n",
       "  <thead>\n",
       "    <tr style=\"text-align: right;\">\n",
       "      <th></th>\n",
       "      <th>x</th>\n",
       "      <th>xP^1</th>\n",
       "      <th>xP^2</th>\n",
       "      <th>xP^3</th>\n",
       "      <th>xP^4</th>\n",
       "      <th>xP^5</th>\n",
       "      <th>xP^6</th>\n",
       "      <th>xP^7</th>\n",
       "      <th>xP^8</th>\n",
       "      <th>xP^9</th>\n",
       "      <th>xP^10</th>\n",
       "      <th>xP^11</th>\n",
       "    </tr>\n",
       "  </thead>\n",
       "  <tbody>\n",
       "    <tr>\n",
       "      <th>0</th>\n",
       "      <td>0.142857</td>\n",
       "      <td>0.060952</td>\n",
       "      <td>0.090302</td>\n",
       "      <td>0.070951</td>\n",
       "      <td>0.069383</td>\n",
       "      <td>0.062763</td>\n",
       "      <td>0.059877</td>\n",
       "      <td>0.057158</td>\n",
       "      <td>0.055556</td>\n",
       "      <td>0.054379</td>\n",
       "      <td>0.053626</td>\n",
       "      <td>0.053111</td>\n",
       "    </tr>\n",
       "    <tr>\n",
       "      <th>1</th>\n",
       "      <td>0.142857</td>\n",
       "      <td>0.081429</td>\n",
       "      <td>0.055014</td>\n",
       "      <td>0.043656</td>\n",
       "      <td>0.038772</td>\n",
       "      <td>0.036672</td>\n",
       "      <td>0.035769</td>\n",
       "      <td>0.035381</td>\n",
       "      <td>0.035214</td>\n",
       "      <td>0.035142</td>\n",
       "      <td>0.035111</td>\n",
       "      <td>0.035098</td>\n",
       "    </tr>\n",
       "    <tr>\n",
       "      <th>2</th>\n",
       "      <td>0.142857</td>\n",
       "      <td>0.245238</td>\n",
       "      <td>0.177735</td>\n",
       "      <td>0.172266</td>\n",
       "      <td>0.149173</td>\n",
       "      <td>0.139104</td>\n",
       "      <td>0.129622</td>\n",
       "      <td>0.124033</td>\n",
       "      <td>0.119926</td>\n",
       "      <td>0.117299</td>\n",
       "      <td>0.115502</td>\n",
       "      <td>0.114326</td>\n",
       "    </tr>\n",
       "    <tr>\n",
       "      <th>3</th>\n",
       "      <td>0.142857</td>\n",
       "      <td>0.163333</td>\n",
       "      <td>0.230837</td>\n",
       "      <td>0.236305</td>\n",
       "      <td>0.242033</td>\n",
       "      <td>0.244013</td>\n",
       "      <td>0.244933</td>\n",
       "      <td>0.245319</td>\n",
       "      <td>0.245486</td>\n",
       "      <td>0.245558</td>\n",
       "      <td>0.245589</td>\n",
       "      <td>0.245602</td>\n",
       "    </tr>\n",
       "    <tr>\n",
       "      <th>4</th>\n",
       "      <td>0.142857</td>\n",
       "      <td>0.122381</td>\n",
       "      <td>0.160535</td>\n",
       "      <td>0.185355</td>\n",
       "      <td>0.192650</td>\n",
       "      <td>0.201250</td>\n",
       "      <td>0.205056</td>\n",
       "      <td>0.208161</td>\n",
       "      <td>0.209930</td>\n",
       "      <td>0.211179</td>\n",
       "      <td>0.211963</td>\n",
       "      <td>0.212491</td>\n",
       "    </tr>\n",
       "    <tr>\n",
       "      <th>5</th>\n",
       "      <td>0.142857</td>\n",
       "      <td>0.081429</td>\n",
       "      <td>0.055014</td>\n",
       "      <td>0.043656</td>\n",
       "      <td>0.038772</td>\n",
       "      <td>0.036672</td>\n",
       "      <td>0.035769</td>\n",
       "      <td>0.035381</td>\n",
       "      <td>0.035214</td>\n",
       "      <td>0.035142</td>\n",
       "      <td>0.035111</td>\n",
       "      <td>0.035098</td>\n",
       "    </tr>\n",
       "    <tr>\n",
       "      <th>6</th>\n",
       "      <td>0.142857</td>\n",
       "      <td>0.245238</td>\n",
       "      <td>0.230563</td>\n",
       "      <td>0.247811</td>\n",
       "      <td>0.269216</td>\n",
       "      <td>0.279527</td>\n",
       "      <td>0.288975</td>\n",
       "      <td>0.294569</td>\n",
       "      <td>0.298675</td>\n",
       "      <td>0.301302</td>\n",
       "      <td>0.303098</td>\n",
       "      <td>0.304274</td>\n",
       "    </tr>\n",
       "  </tbody>\n",
       "</table>\n",
       "</div>"
      ],
      "text/plain": [
       "          x      xP^1      xP^2      xP^3      xP^4      xP^5      xP^6  \\\n",
       "0  0.142857  0.060952  0.090302  0.070951  0.069383  0.062763  0.059877   \n",
       "1  0.142857  0.081429  0.055014  0.043656  0.038772  0.036672  0.035769   \n",
       "2  0.142857  0.245238  0.177735  0.172266  0.149173  0.139104  0.129622   \n",
       "3  0.142857  0.163333  0.230837  0.236305  0.242033  0.244013  0.244933   \n",
       "4  0.142857  0.122381  0.160535  0.185355  0.192650  0.201250  0.205056   \n",
       "5  0.142857  0.081429  0.055014  0.043656  0.038772  0.036672  0.035769   \n",
       "6  0.142857  0.245238  0.230563  0.247811  0.269216  0.279527  0.288975   \n",
       "\n",
       "       xP^7      xP^8      xP^9     xP^10     xP^11  \n",
       "0  0.057158  0.055556  0.054379  0.053626  0.053111  \n",
       "1  0.035381  0.035214  0.035142  0.035111  0.035098  \n",
       "2  0.124033  0.119926  0.117299  0.115502  0.114326  \n",
       "3  0.245319  0.245486  0.245558  0.245589  0.245602  \n",
       "4  0.208161  0.209930  0.211179  0.211963  0.212491  \n",
       "5  0.035381  0.035214  0.035142  0.035111  0.035098  \n",
       "6  0.294569  0.298675  0.301302  0.303098  0.304274  "
      ]
     },
     "execution_count": 9,
     "metadata": {},
     "output_type": "execute_result"
    }
   ],
   "source": [
    "final_res = []                                    # A list of the pageranking scores for each of the iterations\n",
    "col=[]                                            # List of names of the dataframe columns (the number of iterations) \n",
    "x = 12                                            # The number of iterations\n",
    "\n",
    "for i in range(x):\n",
    "    final_res.append(pagerank(edges, 0.14, i))    # Calls the pagerank function and appends the vector to the final_res list\n",
    "    if i == 0:\n",
    "        col.append(\"x\")                           # The starting value of choosing any possible page \n",
    "    else:\n",
    "        col.append(\"xP^\" + str(i))                # The column name\n",
    "\n",
    "trans_matrix = np.array(final_res)                # Puts array into a numpy array so it can be adapted with ease\n",
    "trans_matrix = trans_matrix.reshape(x,7)          # Reshapes matrix so it becomes matrix rather than 1D array\n",
    "trans_matrix = trans_matrix.transpose()           # Transposed to ensure the pages are listed as rows rather than columns\n",
    "dataframe=pd.DataFrame(trans_matrix, columns=col) #Put into a dataframe for an easier visalisation \n",
    "dataframe"
   ]
  },
  {
   "cell_type": "markdown",
   "metadata": {},
   "source": [
    " "
   ]
  },
  {
   "cell_type": "markdown",
   "metadata": {},
   "source": [
    " "
   ]
  },
  {
   "cell_type": "markdown",
   "metadata": {},
   "source": [
    "### Q3:\n",
    "To determine that both methods result in a steady state can easily be done by simply setting the iteration values of the methods to a high number such as 10000. By doing so, this outputs the resulting ranking of 6, 4, 3, 2, 0, 1, 5 and this ranking does not change no matter how many times the methods are run (with the exception of pages 1 and 5 for the random walk method as previously explained). However, it's difficult to determine a specific number of iterations required for the random walk method to result in a steady state, as the randomness of the approach causes the page scores to change slightly each time the function is run. Therefore as the steady state of the pagerank is reached after approximately 7 iterations, this number of iterations should be used in the randomwalk method as a benchmark to test. The random walk method does not even converge to a steady state after 12 iterations and therefore the pagerank method is proven to converge faster."
   ]
  },
  {
   "cell_type": "markdown",
   "metadata": {},
   "source": [
    " "
   ]
  },
  {
   "cell_type": "markdown",
   "metadata": {},
   "source": [
    " "
   ]
  },
  {
   "cell_type": "markdown",
   "metadata": {},
   "source": [
    "### Q4:\n",
    "Users cannot improve their page ranking score by changing the number of outgoing edges to other pages. If they were to do so, this would simply give their page a poorer ranking score as other pages which now have an additional incoming edge will be the pages that gain a better score from doing this instead. Pagerank uses the incoming edges to determine their rankings rather than the outgoing edges. Therefore if a page with a high page ranking score is pointing to their page, their page will then have a higher score as it is more likely to be accessed than a page with none or very few incoming edges from low frequently visited pages. Proof of this follows:    "
   ]
  },
  {
   "cell_type": "markdown",
   "metadata": {},
   "source": [
    "This is the set of results which will be compared with the tests:\n",
    "\n",
    "![Title](comparingResults.png)"
   ]
  },
  {
   "cell_type": "markdown",
   "metadata": {},
   "source": [
    "As you can see with the first example below, the edges dictionary contains more outgoing links to other pages from page 6. It is therefore expected that the ranking score of page 6 should be a smaller value than the original 0.304274, whilst the other pages which now have an additional input edge (pages 1, 2 and 5) should have larger page ranking scores: "
   ]
  },
  {
   "cell_type": "code",
   "execution_count": 10,
   "metadata": {},
   "outputs": [
    {
     "data": {
      "text/html": [
       "<div>\n",
       "<style scoped>\n",
       "    .dataframe tbody tr th:only-of-type {\n",
       "        vertical-align: middle;\n",
       "    }\n",
       "\n",
       "    .dataframe tbody tr th {\n",
       "        vertical-align: top;\n",
       "    }\n",
       "\n",
       "    .dataframe thead th {\n",
       "        text-align: right;\n",
       "    }\n",
       "</style>\n",
       "<table border=\"1\" class=\"dataframe\">\n",
       "  <thead>\n",
       "    <tr style=\"text-align: right;\">\n",
       "      <th></th>\n",
       "      <th>x</th>\n",
       "      <th>xP^1</th>\n",
       "      <th>xP^2</th>\n",
       "      <th>xP^3</th>\n",
       "      <th>xP^4</th>\n",
       "      <th>xP^5</th>\n",
       "      <th>xP^6</th>\n",
       "      <th>xP^7</th>\n",
       "      <th>xP^8</th>\n",
       "      <th>xP^9</th>\n",
       "      <th>xP^10</th>\n",
       "      <th>xP^11</th>\n",
       "    </tr>\n",
       "  </thead>\n",
       "  <tbody>\n",
       "    <tr>\n",
       "      <th>0</th>\n",
       "      <td>0.142857</td>\n",
       "      <td>0.060952</td>\n",
       "      <td>0.096171</td>\n",
       "      <td>0.084393</td>\n",
       "      <td>0.087287</td>\n",
       "      <td>0.084245</td>\n",
       "      <td>0.084037</td>\n",
       "      <td>0.083245</td>\n",
       "      <td>0.083087</td>\n",
       "      <td>0.082921</td>\n",
       "      <td>0.082890</td>\n",
       "      <td>0.082869</td>\n",
       "    </tr>\n",
       "    <tr>\n",
       "      <th>1</th>\n",
       "      <td>0.142857</td>\n",
       "      <td>0.101905</td>\n",
       "      <td>0.096035</td>\n",
       "      <td>0.087621</td>\n",
       "      <td>0.084245</td>\n",
       "      <td>0.084072</td>\n",
       "      <td>0.084136</td>\n",
       "      <td>0.084555</td>\n",
       "      <td>0.084814</td>\n",
       "      <td>0.085009</td>\n",
       "      <td>0.085108</td>\n",
       "      <td>0.085161</td>\n",
       "    </tr>\n",
       "    <tr>\n",
       "      <th>2</th>\n",
       "      <td>0.142857</td>\n",
       "      <td>0.265714</td>\n",
       "      <td>0.224625</td>\n",
       "      <td>0.234722</td>\n",
       "      <td>0.224109</td>\n",
       "      <td>0.223383</td>\n",
       "      <td>0.220623</td>\n",
       "      <td>0.220072</td>\n",
       "      <td>0.219493</td>\n",
       "      <td>0.219385</td>\n",
       "      <td>0.219311</td>\n",
       "      <td>0.219316</td>\n",
       "    </tr>\n",
       "    <tr>\n",
       "      <th>3</th>\n",
       "      <td>0.142857</td>\n",
       "      <td>0.142857</td>\n",
       "      <td>0.189816</td>\n",
       "      <td>0.192340</td>\n",
       "      <td>0.196561</td>\n",
       "      <td>0.196613</td>\n",
       "      <td>0.196565</td>\n",
       "      <td>0.196145</td>\n",
       "      <td>0.195885</td>\n",
       "      <td>0.195691</td>\n",
       "      <td>0.195592</td>\n",
       "      <td>0.195538</td>\n",
       "    </tr>\n",
       "    <tr>\n",
       "      <th>4</th>\n",
       "      <td>0.142857</td>\n",
       "      <td>0.101905</td>\n",
       "      <td>0.113644</td>\n",
       "      <td>0.127947</td>\n",
       "      <td>0.129274</td>\n",
       "      <td>0.132368</td>\n",
       "      <td>0.132529</td>\n",
       "      <td>0.132899</td>\n",
       "      <td>0.132798</td>\n",
       "      <td>0.132769</td>\n",
       "      <td>0.132701</td>\n",
       "      <td>0.132669</td>\n",
       "    </tr>\n",
       "    <tr>\n",
       "      <th>5</th>\n",
       "      <td>0.142857</td>\n",
       "      <td>0.101905</td>\n",
       "      <td>0.096035</td>\n",
       "      <td>0.087621</td>\n",
       "      <td>0.084245</td>\n",
       "      <td>0.084072</td>\n",
       "      <td>0.084136</td>\n",
       "      <td>0.084555</td>\n",
       "      <td>0.084814</td>\n",
       "      <td>0.085009</td>\n",
       "      <td>0.085108</td>\n",
       "      <td>0.085161</td>\n",
       "    </tr>\n",
       "    <tr>\n",
       "      <th>6</th>\n",
       "      <td>0.142857</td>\n",
       "      <td>0.224762</td>\n",
       "      <td>0.183673</td>\n",
       "      <td>0.185356</td>\n",
       "      <td>0.194280</td>\n",
       "      <td>0.195248</td>\n",
       "      <td>0.197973</td>\n",
       "      <td>0.198530</td>\n",
       "      <td>0.199108</td>\n",
       "      <td>0.199215</td>\n",
       "      <td>0.199290</td>\n",
       "      <td>0.199284</td>\n",
       "    </tr>\n",
       "  </tbody>\n",
       "</table>\n",
       "</div>"
      ],
      "text/plain": [
       "          x      xP^1      xP^2      xP^3      xP^4      xP^5      xP^6  \\\n",
       "0  0.142857  0.060952  0.096171  0.084393  0.087287  0.084245  0.084037   \n",
       "1  0.142857  0.101905  0.096035  0.087621  0.084245  0.084072  0.084136   \n",
       "2  0.142857  0.265714  0.224625  0.234722  0.224109  0.223383  0.220623   \n",
       "3  0.142857  0.142857  0.189816  0.192340  0.196561  0.196613  0.196565   \n",
       "4  0.142857  0.101905  0.113644  0.127947  0.129274  0.132368  0.132529   \n",
       "5  0.142857  0.101905  0.096035  0.087621  0.084245  0.084072  0.084136   \n",
       "6  0.142857  0.224762  0.183673  0.185356  0.194280  0.195248  0.197973   \n",
       "\n",
       "       xP^7      xP^8      xP^9     xP^10     xP^11  \n",
       "0  0.083245  0.083087  0.082921  0.082890  0.082869  \n",
       "1  0.084555  0.084814  0.085009  0.085108  0.085161  \n",
       "2  0.220072  0.219493  0.219385  0.219311  0.219316  \n",
       "3  0.196145  0.195885  0.195691  0.195592  0.195538  \n",
       "4  0.132899  0.132798  0.132769  0.132701  0.132669  \n",
       "5  0.084555  0.084814  0.085009  0.085108  0.085161  \n",
       "6  0.198530  0.199108  0.199215  0.199290  0.199284  "
      ]
     },
     "execution_count": 10,
     "metadata": {},
     "output_type": "execute_result"
    }
   ],
   "source": [
    "import random\n",
    "import numpy as np\n",
    "import pandas as pd\n",
    "\n",
    "edges = {(0,2),(2,0),(1,1),(1,2),(2,2),(2,3),(3,3),(3,4),(6,3),(4,6),(6,4),(6,6),(5,6),(5,5),    \n",
    "         (6,1),(6,2),(6,5)}                       # The edges that are added to the original edges dictionary for testing \n",
    "\n",
    "pageDict = {}                                                           \n",
    "    \n",
    "for edge in edges:\n",
    "    pageDict[edge[0]] = 0                         # adds the unique pages to dictionary\n",
    "\n",
    "pages = list(pageDict)                            # converts dictionary to a list\n",
    "number_of_pages = len(pages)                      # calculate number of pages in graph\n",
    "list_of_edges = list(edges)                       # A list of the edges - for slicing\n",
    "number_of_edges = len(edges)                      # Number of edges\n",
    "dict_counter = {}                                 # Dictionary of pages & their scores\n",
    "final_res = []                                    # A list of the pagerankings of each of the iterations\n",
    "col=[]                                            # List of names of the dataframe columns (the number of iterations) \n",
    "x = 12                                            # The number of iterations\n",
    "\n",
    "for i in range(x):\n",
    "    final_res.append(pagerank(edges, 0.14, i))    # Calls the pagerank function\n",
    "    if i == 0:\n",
    "        col.append(\"x\")                           # The starting value of choosing any possible page \n",
    "    else:\n",
    "        col.append(\"xP^\" + str(i))                # The column name\n",
    "\n",
    "trans_matrix = np.array(final_res)                # Puts array into a numpy array so it can be adapted with ease\n",
    "trans_matrix = trans_matrix.reshape(x,7)          # Reshapes matrix so it becomes matrix rather than 1D array\n",
    "trans_matrix = trans_matrix.transpose()           # Transposed to ensure the pages are listed as rows rather than columns\n",
    "dataframe=pd.DataFrame(trans_matrix, columns=col) #Put into a dataframe for an easier visalisation \n",
    "dataframe"
   ]
  },
  {
   "cell_type": "markdown",
   "metadata": {},
   "source": [
    "The dataframe that is outputted proves this theory as the score is now 0.199284 whilst the scores of pages 1, 2 and 5 have improved. Another test to prove this can be seen below where page 6 has three more input edges than in the original graph. This therefore should have an improved page ranking score for page 6 (0.304274), whilst pages 1 (0.035098), 2 (0.114326) and 3 (0.245602) should have smaller page ranking scores.  "
   ]
  },
  {
   "cell_type": "code",
   "execution_count": 11,
   "metadata": {},
   "outputs": [
    {
     "data": {
      "text/html": [
       "<div>\n",
       "<style scoped>\n",
       "    .dataframe tbody tr th:only-of-type {\n",
       "        vertical-align: middle;\n",
       "    }\n",
       "\n",
       "    .dataframe tbody tr th {\n",
       "        vertical-align: top;\n",
       "    }\n",
       "\n",
       "    .dataframe thead th {\n",
       "        text-align: right;\n",
       "    }\n",
       "</style>\n",
       "<table border=\"1\" class=\"dataframe\">\n",
       "  <thead>\n",
       "    <tr style=\"text-align: right;\">\n",
       "      <th></th>\n",
       "      <th>x</th>\n",
       "      <th>xP^1</th>\n",
       "      <th>xP^2</th>\n",
       "      <th>xP^3</th>\n",
       "      <th>xP^4</th>\n",
       "      <th>xP^5</th>\n",
       "      <th>xP^6</th>\n",
       "      <th>xP^7</th>\n",
       "      <th>xP^8</th>\n",
       "      <th>xP^9</th>\n",
       "      <th>xP^10</th>\n",
       "      <th>xP^11</th>\n",
       "    </tr>\n",
       "  </thead>\n",
       "  <tbody>\n",
       "    <tr>\n",
       "      <th>0</th>\n",
       "      <td>0.142857</td>\n",
       "      <td>0.050714</td>\n",
       "      <td>0.066123</td>\n",
       "      <td>0.047350</td>\n",
       "      <td>0.044716</td>\n",
       "      <td>0.040264</td>\n",
       "      <td>0.038701</td>\n",
       "      <td>0.037507</td>\n",
       "      <td>0.036952</td>\n",
       "      <td>0.036609</td>\n",
       "      <td>0.036432</td>\n",
       "      <td>0.036330</td>\n",
       "    </tr>\n",
       "    <tr>\n",
       "      <th>1</th>\n",
       "      <td>0.142857</td>\n",
       "      <td>0.060952</td>\n",
       "      <td>0.037473</td>\n",
       "      <td>0.030742</td>\n",
       "      <td>0.028813</td>\n",
       "      <td>0.028260</td>\n",
       "      <td>0.028101</td>\n",
       "      <td>0.028056</td>\n",
       "      <td>0.028043</td>\n",
       "      <td>0.028039</td>\n",
       "      <td>0.028038</td>\n",
       "      <td>0.028038</td>\n",
       "    </tr>\n",
       "    <tr>\n",
       "      <th>2</th>\n",
       "      <td>0.142857</td>\n",
       "      <td>0.214524</td>\n",
       "      <td>0.127210</td>\n",
       "      <td>0.114958</td>\n",
       "      <td>0.094250</td>\n",
       "      <td>0.086979</td>\n",
       "      <td>0.081428</td>\n",
       "      <td>0.078845</td>\n",
       "      <td>0.077250</td>\n",
       "      <td>0.076426</td>\n",
       "      <td>0.075953</td>\n",
       "      <td>0.075699</td>\n",
       "    </tr>\n",
       "    <tr>\n",
       "      <th>3</th>\n",
       "      <td>0.142857</td>\n",
       "      <td>0.132619</td>\n",
       "      <td>0.206726</td>\n",
       "      <td>0.206042</td>\n",
       "      <td>0.212302</td>\n",
       "      <td>0.213945</td>\n",
       "      <td>0.214755</td>\n",
       "      <td>0.215225</td>\n",
       "      <td>0.215400</td>\n",
       "      <td>0.215516</td>\n",
       "      <td>0.215563</td>\n",
       "      <td>0.215593</td>\n",
       "    </tr>\n",
       "    <tr>\n",
       "      <th>4</th>\n",
       "      <td>0.142857</td>\n",
       "      <td>0.101905</td>\n",
       "      <td>0.160603</td>\n",
       "      <td>0.178692</td>\n",
       "      <td>0.187586</td>\n",
       "      <td>0.193681</td>\n",
       "      <td>0.196055</td>\n",
       "      <td>0.197718</td>\n",
       "      <td>0.198448</td>\n",
       "      <td>0.198907</td>\n",
       "      <td>0.199132</td>\n",
       "      <td>0.199263</td>\n",
       "    </tr>\n",
       "    <tr>\n",
       "      <th>5</th>\n",
       "      <td>0.142857</td>\n",
       "      <td>0.081429</td>\n",
       "      <td>0.055014</td>\n",
       "      <td>0.043656</td>\n",
       "      <td>0.038772</td>\n",
       "      <td>0.036672</td>\n",
       "      <td>0.035769</td>\n",
       "      <td>0.035381</td>\n",
       "      <td>0.035214</td>\n",
       "      <td>0.035142</td>\n",
       "      <td>0.035111</td>\n",
       "      <td>0.035098</td>\n",
       "    </tr>\n",
       "    <tr>\n",
       "      <th>6</th>\n",
       "      <td>0.142857</td>\n",
       "      <td>0.357857</td>\n",
       "      <td>0.346851</td>\n",
       "      <td>0.378559</td>\n",
       "      <td>0.393562</td>\n",
       "      <td>0.400200</td>\n",
       "      <td>0.405191</td>\n",
       "      <td>0.407268</td>\n",
       "      <td>0.408694</td>\n",
       "      <td>0.409362</td>\n",
       "      <td>0.409772</td>\n",
       "      <td>0.409981</td>\n",
       "    </tr>\n",
       "  </tbody>\n",
       "</table>\n",
       "</div>"
      ],
      "text/plain": [
       "          x      xP^1      xP^2      xP^3      xP^4      xP^5      xP^6  \\\n",
       "0  0.142857  0.050714  0.066123  0.047350  0.044716  0.040264  0.038701   \n",
       "1  0.142857  0.060952  0.037473  0.030742  0.028813  0.028260  0.028101   \n",
       "2  0.142857  0.214524  0.127210  0.114958  0.094250  0.086979  0.081428   \n",
       "3  0.142857  0.132619  0.206726  0.206042  0.212302  0.213945  0.214755   \n",
       "4  0.142857  0.101905  0.160603  0.178692  0.187586  0.193681  0.196055   \n",
       "5  0.142857  0.081429  0.055014  0.043656  0.038772  0.036672  0.035769   \n",
       "6  0.142857  0.357857  0.346851  0.378559  0.393562  0.400200  0.405191   \n",
       "\n",
       "       xP^7      xP^8      xP^9     xP^10     xP^11  \n",
       "0  0.037507  0.036952  0.036609  0.036432  0.036330  \n",
       "1  0.028056  0.028043  0.028039  0.028038  0.028038  \n",
       "2  0.078845  0.077250  0.076426  0.075953  0.075699  \n",
       "3  0.215225  0.215400  0.215516  0.215563  0.215593  \n",
       "4  0.197718  0.198448  0.198907  0.199132  0.199263  \n",
       "5  0.035381  0.035214  0.035142  0.035111  0.035098  \n",
       "6  0.407268  0.408694  0.409362  0.409772  0.409981  "
      ]
     },
     "execution_count": 11,
     "metadata": {},
     "output_type": "execute_result"
    }
   ],
   "source": [
    "import random\n",
    "import numpy as np\n",
    "import pandas as pd\n",
    "\n",
    "edges = {(0,2),(2,0),(1,1),(1,2),(2,2),(2,3),(3,3),(3,4),(6,3),(4,6),(6,4),(6,6),(5,6),(5,5),    \n",
    "         (1,6),(2,6),(3,6)}                       # The edges that are added to the original edges dictionary for testing \n",
    "\n",
    "pageDict = {}                                                           \n",
    "    \n",
    "for edge in edges:\n",
    "    pageDict[edge[0]] = 0                         # adds the unique pages to dictionary\n",
    "\n",
    "pages = list(pageDict)                            # converts dictionary to a list\n",
    "number_of_pages = len(pages)                      # calculate number of pages in graph\n",
    "list_of_edges = list(edges)                       # A list of the edges - for slicing\n",
    "number_of_edges = len(edges)                      # Number of edges\n",
    "dict_counter = {}                                 # Dictionary of pages & their scores\n",
    "final_res = []                                    # A list of the pagerankings of each of the iterations\n",
    "col=[]                                            # List of names of the dataframe columns (the number of iterations) \n",
    "x = 12                                            # The number of iterations\n",
    "\n",
    "for i in range(x):\n",
    "    final_res.append(pagerank(edges, 0.14, i))    # Calls the pagerank function\n",
    "    if i == 0:\n",
    "        col.append(\"x\")                           # The starting value of choosing any possible page \n",
    "    else:\n",
    "        col.append(\"xP^\" + str(i))                # The column name\n",
    "\n",
    "trans_matrix = np.array(final_res)                # Puts array into a numpy array so it can be adapted with ease\n",
    "trans_matrix = trans_matrix.reshape(x,7)          # Reshapes matrix so it becomes matrix rather than 1D array\n",
    "trans_matrix = trans_matrix.transpose()           # Transposed to ensure the pages are listed as rows rather than columns\n",
    "dataframe=pd.DataFrame(trans_matrix, columns=col) # Put into a dataframe for an easier visalisation \n",
    "dataframe"
   ]
  },
  {
   "cell_type": "markdown",
   "metadata": {},
   "source": [
    "The outputted results prove this theory once again. The score of page 6 has increased to 0.409981, whilst the scores of 1, 2 and 3 have decreased to 0.028038, 0.075699, and 0.215593 respectively. "
   ]
  },
  {
   "cell_type": "markdown",
   "metadata": {},
   "source": [
    " "
   ]
  },
  {
   "cell_type": "markdown",
   "metadata": {},
   "source": [
    " "
   ]
  },
  {
   "cell_type": "markdown",
   "metadata": {},
   "source": [
    " "
   ]
  },
  {
   "cell_type": "markdown",
   "metadata": {},
   "source": [
    "# The code below used was used for testing purposes:"
   ]
  },
  {
   "cell_type": "markdown",
   "metadata": {},
   "source": [
    "### The pagerank function which returns a transition matrix "
   ]
  },
  {
   "cell_type": "code",
   "execution_count": 12,
   "metadata": {},
   "outputs": [],
   "source": [
    "# matrix = list of every probability for the page connections - transition matrix\n",
    "# T = an N x N matrix full of 1/N\n",
    "# alpha = the teleportation probability\n",
    "# bias = the additional value added to every probability\n",
    "# dictionary for unique pages\n",
    "\n",
    "def pagerank(edges, a, iters):\n",
    "    \n",
    "    pageDict = {}                                                           \n",
    "    \n",
    "    for edge in edges:\n",
    "        pageDict[edge[0]] = 0                          # adds the unique pages to dictionary\n",
    "\n",
    "    pages = list(pageDict)                             # converts dictionary to a list\n",
    "    number_of_pages = len(pages)                       # calculate number of pages in graph\n",
    "    matrix = []\n",
    "    T = 1/number_of_pages\n",
    "    alpha = a\n",
    "    bias = T * alpha\n",
    "\n",
    "\n",
    "    for page in range(number_of_pages):\n",
    "        connectedPages = getNeighbours(page)           # gets neighbours of current page\n",
    "        row = [0] * number_of_pages                    # initialising list with a 0 frequency for each page of length 'number_of_pages'  \n",
    "\n",
    "        if len(connectedPages) == 1:\n",
    "            prob = 1                                   # probability is 1 if there's only 1 connected page\n",
    "        else:\n",
    "            prob = 1/len(connectedPages)               # probabilities are 1/n where n = number of nighbours \n",
    "\n",
    "\n",
    "        for y in range(number_of_pages):\n",
    "            for x in connectedPages: \n",
    "                if y == x:\n",
    "                    row[x] = prob                      # adds each of the pages probabilities to the row list\n",
    "\n",
    "        matrix.append(row)                             # appends the row to the matrix\n",
    "\n",
    "    trans_matrix = np.array(matrix)                    # convert the list of rows to a numpy array so it can be reshaped\n",
    "    trans_matrix.reshape(7,7)                          # reshaped the array to be \n",
    "\n",
    "\n",
    "    return trans_matrix"
   ]
  },
  {
   "cell_type": "code",
   "execution_count": 13,
   "metadata": {},
   "outputs": [
    {
     "data": {
      "text/html": [
       "<div>\n",
       "<style scoped>\n",
       "    .dataframe tbody tr th:only-of-type {\n",
       "        vertical-align: middle;\n",
       "    }\n",
       "\n",
       "    .dataframe tbody tr th {\n",
       "        vertical-align: top;\n",
       "    }\n",
       "\n",
       "    .dataframe thead th {\n",
       "        text-align: right;\n",
       "    }\n",
       "</style>\n",
       "<table border=\"1\" class=\"dataframe\">\n",
       "  <thead>\n",
       "    <tr style=\"text-align: right;\">\n",
       "      <th></th>\n",
       "      <th>0</th>\n",
       "      <th>1</th>\n",
       "      <th>2</th>\n",
       "      <th>3</th>\n",
       "      <th>4</th>\n",
       "      <th>5</th>\n",
       "      <th>6</th>\n",
       "    </tr>\n",
       "  </thead>\n",
       "  <tbody>\n",
       "    <tr>\n",
       "      <th>0</th>\n",
       "      <td>0.00</td>\n",
       "      <td>0.000000</td>\n",
       "      <td>1.000000</td>\n",
       "      <td>0.000000</td>\n",
       "      <td>0.000000</td>\n",
       "      <td>0.0</td>\n",
       "      <td>0.000000</td>\n",
       "    </tr>\n",
       "    <tr>\n",
       "      <th>1</th>\n",
       "      <td>0.00</td>\n",
       "      <td>0.333333</td>\n",
       "      <td>0.333333</td>\n",
       "      <td>0.000000</td>\n",
       "      <td>0.000000</td>\n",
       "      <td>0.0</td>\n",
       "      <td>0.333333</td>\n",
       "    </tr>\n",
       "    <tr>\n",
       "      <th>2</th>\n",
       "      <td>0.25</td>\n",
       "      <td>0.000000</td>\n",
       "      <td>0.250000</td>\n",
       "      <td>0.250000</td>\n",
       "      <td>0.000000</td>\n",
       "      <td>0.0</td>\n",
       "      <td>0.250000</td>\n",
       "    </tr>\n",
       "    <tr>\n",
       "      <th>3</th>\n",
       "      <td>0.00</td>\n",
       "      <td>0.000000</td>\n",
       "      <td>0.000000</td>\n",
       "      <td>0.333333</td>\n",
       "      <td>0.333333</td>\n",
       "      <td>0.0</td>\n",
       "      <td>0.333333</td>\n",
       "    </tr>\n",
       "    <tr>\n",
       "      <th>4</th>\n",
       "      <td>0.00</td>\n",
       "      <td>0.000000</td>\n",
       "      <td>0.000000</td>\n",
       "      <td>0.000000</td>\n",
       "      <td>0.000000</td>\n",
       "      <td>0.0</td>\n",
       "      <td>1.000000</td>\n",
       "    </tr>\n",
       "    <tr>\n",
       "      <th>5</th>\n",
       "      <td>0.00</td>\n",
       "      <td>0.000000</td>\n",
       "      <td>0.000000</td>\n",
       "      <td>0.000000</td>\n",
       "      <td>0.000000</td>\n",
       "      <td>0.5</td>\n",
       "      <td>0.500000</td>\n",
       "    </tr>\n",
       "    <tr>\n",
       "      <th>6</th>\n",
       "      <td>0.00</td>\n",
       "      <td>0.000000</td>\n",
       "      <td>0.000000</td>\n",
       "      <td>0.333333</td>\n",
       "      <td>0.333333</td>\n",
       "      <td>0.0</td>\n",
       "      <td>0.333333</td>\n",
       "    </tr>\n",
       "  </tbody>\n",
       "</table>\n",
       "</div>"
      ],
      "text/plain": [
       "      0         1         2         3         4    5         6\n",
       "0  0.00  0.000000  1.000000  0.000000  0.000000  0.0  0.000000\n",
       "1  0.00  0.333333  0.333333  0.000000  0.000000  0.0  0.333333\n",
       "2  0.25  0.000000  0.250000  0.250000  0.000000  0.0  0.250000\n",
       "3  0.00  0.000000  0.000000  0.333333  0.333333  0.0  0.333333\n",
       "4  0.00  0.000000  0.000000  0.000000  0.000000  0.0  1.000000\n",
       "5  0.00  0.000000  0.000000  0.000000  0.000000  0.5  0.500000\n",
       "6  0.00  0.000000  0.000000  0.333333  0.333333  0.0  0.333333"
      ]
     },
     "execution_count": 13,
     "metadata": {},
     "output_type": "execute_result"
    }
   ],
   "source": [
    "trans_matrix = pagerank(edges, 0.14, 100)\n",
    "\n",
    "dataframe=pd.DataFrame(trans_matrix, columns=['0','1','2', '3', '4', '5', '6']) #Put into a dataframe for an easier visalisation \n",
    "dataframe"
   ]
  },
  {
   "cell_type": "markdown",
   "metadata": {},
   "source": [
    "### The pagerank function which returns a transition matrix including teleporting "
   ]
  },
  {
   "cell_type": "code",
   "execution_count": 14,
   "metadata": {},
   "outputs": [],
   "source": [
    "# matrix = list of every probability for the page connections - transition matrix\n",
    "# T = an N x N matrix full of 1/N\n",
    "# alpha = the teleportation probability\n",
    "# bias = the additional value added to every probability\n",
    "# dictionary for unique pages\n",
    "\n",
    "edges = {(0,2),(2,0),(1,1),(1,2),(2,2),(2,3),(3,3),(3,4),(6,3),(4,6),(6,4),(6,6),(5,6),(5,5)} # Dictionary containing graph edges \n",
    "\n",
    "def pagerank(edges, a, iters):\n",
    "    \n",
    "    pageDict = {}                                                           \n",
    "    \n",
    "    for edge in edges:\n",
    "        pageDict[edge[0]] = 0                          # adds the unique pages to dictionary\n",
    "\n",
    "    pages = list(pageDict)                             # converts dictionary to a list\n",
    "    number_of_pages = len(pages)                       # calculate number of pages in graph\n",
    "    matrix = []\n",
    "    T = 1/number_of_pages\n",
    "    alpha = a\n",
    "    bias = T * alpha\n",
    "\n",
    "           \n",
    "    for page in range(number_of_pages):\n",
    "        connectedPages = getNeighbours(page)           # gets neighbours of current page\n",
    "        row = [0] * number_of_pages                    # initialising list with a 0 frequency for each page of length 'number_of_pages'  \n",
    "\n",
    "\n",
    "        if len(connectedPages) == 1:\n",
    "            prob = 1                                   # probability is 1 if there's only 1 connected page\n",
    "        else:\n",
    "            prob = 1/len(connectedPages)               # probabilities are 1/n where n = number of nighbours \n",
    "\n",
    "        prob = (((1-alpha)*prob) + bias)               # teleportation formula applied to every page that is not equal to 0  \n",
    "    \n",
    "        for x in connectedPages:\n",
    "            row[x] = prob                              # the pages probabilities stored in the list of row\n",
    "\n",
    "        for y in range(len(row)):                      \n",
    "            if row[y] == 0:\n",
    "                row[y] += bias                         # teleportation formula applied to every page that is equal to 0\n",
    "\n",
    "        matrix.append(row)                             # appends the row to the matrix\n",
    "\n",
    "    trans_matrix = np.array(matrix)                    # convert the list of rows to a numpy array so it can be reshaped\n",
    "    trans_matrix.reshape(7,7)                          # reshaped the array to be \n",
    "    \n",
    "    \n",
    "    return trans_matrix"
   ]
  },
  {
   "cell_type": "code",
   "execution_count": 15,
   "metadata": {},
   "outputs": [
    {
     "data": {
      "text/html": [
       "<div>\n",
       "<style scoped>\n",
       "    .dataframe tbody tr th:only-of-type {\n",
       "        vertical-align: middle;\n",
       "    }\n",
       "\n",
       "    .dataframe tbody tr th {\n",
       "        vertical-align: top;\n",
       "    }\n",
       "\n",
       "    .dataframe thead th {\n",
       "        text-align: right;\n",
       "    }\n",
       "</style>\n",
       "<table border=\"1\" class=\"dataframe\">\n",
       "  <thead>\n",
       "    <tr style=\"text-align: right;\">\n",
       "      <th></th>\n",
       "      <th>0</th>\n",
       "      <th>1</th>\n",
       "      <th>2</th>\n",
       "      <th>3</th>\n",
       "      <th>4</th>\n",
       "      <th>5</th>\n",
       "      <th>6</th>\n",
       "    </tr>\n",
       "  </thead>\n",
       "  <tbody>\n",
       "    <tr>\n",
       "      <th>0</th>\n",
       "      <td>0.020</td>\n",
       "      <td>0.020000</td>\n",
       "      <td>0.880000</td>\n",
       "      <td>0.020000</td>\n",
       "      <td>0.020000</td>\n",
       "      <td>0.02</td>\n",
       "      <td>0.020000</td>\n",
       "    </tr>\n",
       "    <tr>\n",
       "      <th>1</th>\n",
       "      <td>0.020</td>\n",
       "      <td>0.306667</td>\n",
       "      <td>0.306667</td>\n",
       "      <td>0.020000</td>\n",
       "      <td>0.020000</td>\n",
       "      <td>0.02</td>\n",
       "      <td>0.306667</td>\n",
       "    </tr>\n",
       "    <tr>\n",
       "      <th>2</th>\n",
       "      <td>0.235</td>\n",
       "      <td>0.020000</td>\n",
       "      <td>0.235000</td>\n",
       "      <td>0.235000</td>\n",
       "      <td>0.020000</td>\n",
       "      <td>0.02</td>\n",
       "      <td>0.235000</td>\n",
       "    </tr>\n",
       "    <tr>\n",
       "      <th>3</th>\n",
       "      <td>0.020</td>\n",
       "      <td>0.020000</td>\n",
       "      <td>0.020000</td>\n",
       "      <td>0.306667</td>\n",
       "      <td>0.306667</td>\n",
       "      <td>0.02</td>\n",
       "      <td>0.306667</td>\n",
       "    </tr>\n",
       "    <tr>\n",
       "      <th>4</th>\n",
       "      <td>0.020</td>\n",
       "      <td>0.020000</td>\n",
       "      <td>0.020000</td>\n",
       "      <td>0.020000</td>\n",
       "      <td>0.020000</td>\n",
       "      <td>0.02</td>\n",
       "      <td>0.880000</td>\n",
       "    </tr>\n",
       "    <tr>\n",
       "      <th>5</th>\n",
       "      <td>0.020</td>\n",
       "      <td>0.020000</td>\n",
       "      <td>0.020000</td>\n",
       "      <td>0.020000</td>\n",
       "      <td>0.020000</td>\n",
       "      <td>0.45</td>\n",
       "      <td>0.450000</td>\n",
       "    </tr>\n",
       "    <tr>\n",
       "      <th>6</th>\n",
       "      <td>0.020</td>\n",
       "      <td>0.020000</td>\n",
       "      <td>0.020000</td>\n",
       "      <td>0.306667</td>\n",
       "      <td>0.306667</td>\n",
       "      <td>0.02</td>\n",
       "      <td>0.306667</td>\n",
       "    </tr>\n",
       "  </tbody>\n",
       "</table>\n",
       "</div>"
      ],
      "text/plain": [
       "       0         1         2         3         4     5         6\n",
       "0  0.020  0.020000  0.880000  0.020000  0.020000  0.02  0.020000\n",
       "1  0.020  0.306667  0.306667  0.020000  0.020000  0.02  0.306667\n",
       "2  0.235  0.020000  0.235000  0.235000  0.020000  0.02  0.235000\n",
       "3  0.020  0.020000  0.020000  0.306667  0.306667  0.02  0.306667\n",
       "4  0.020  0.020000  0.020000  0.020000  0.020000  0.02  0.880000\n",
       "5  0.020  0.020000  0.020000  0.020000  0.020000  0.45  0.450000\n",
       "6  0.020  0.020000  0.020000  0.306667  0.306667  0.02  0.306667"
      ]
     },
     "execution_count": 15,
     "metadata": {},
     "output_type": "execute_result"
    }
   ],
   "source": [
    "trans_matrix = pagerank(edges, 0.14, 100)\n",
    "\n",
    "dataframe=pd.DataFrame(trans_matrix, columns=['0','1','2', '3', '4', '5', '6']) #Put into a dataframe for an easier visalisation \n",
    "dataframe"
   ]
  },
  {
   "cell_type": "markdown",
   "metadata": {},
   "source": [
    "### Function which returns the amount of pages each page links to:"
   ]
  },
  {
   "cell_type": "code",
   "execution_count": 16,
   "metadata": {},
   "outputs": [
    {
     "data": {
      "text/plain": [
       "{0: 1, 1: 3, 2: 4, 3: 3, 4: 1, 5: 2, 6: 3}"
      ]
     },
     "execution_count": 16,
     "metadata": {},
     "output_type": "execute_result"
    }
   ],
   "source": [
    "# outgoing_dict = dictionary with pages as keys and their frequencies as values\n",
    "# edge = the current edge from the list of edges which is being utilised\n",
    "\n",
    "outgoing_dict = dict.fromkeys(range(number_of_pages),0)\n",
    "\n",
    "for page in range(number_of_pages):\n",
    "    for x in range(number_of_edges):\n",
    "        edge = list_of_edges[x]                 # Gets the specific edge from the list\n",
    "\n",
    "        if edge[0] == page:                     # Checks the first value as this is where the edge comes from\n",
    "            outgoing_dict[page] += 1 \n",
    "\n",
    "outgoing_dict"
   ]
  }
 ],
 "metadata": {
  "kernelspec": {
   "display_name": "Python 3",
   "language": "python",
   "name": "python3"
  },
  "language_info": {
   "codemirror_mode": {
    "name": "ipython",
    "version": 3
   },
   "file_extension": ".py",
   "mimetype": "text/x-python",
   "name": "python",
   "nbconvert_exporter": "python",
   "pygments_lexer": "ipython3",
   "version": "3.7.6"
  }
 },
 "nbformat": 4,
 "nbformat_minor": 4
}
